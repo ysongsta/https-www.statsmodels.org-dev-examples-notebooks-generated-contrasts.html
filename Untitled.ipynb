{
 "cells": [
  {
   "cell_type": "code",
   "execution_count": 20,
   "metadata": {},
   "outputs": [
    {
     "data": {
      "text/plain": [
       "ContrastMatrix(array([[ 1.,  1.,  0.,  0.],\n",
       "                      [ 1.,  0.,  1.,  0.],\n",
       "                      [ 1.,  0.,  0.,  1.],\n",
       "                      [ 1., -1., -1., -1.]]),\n",
       "               ['[mean]', '[S.1]', '[S.2]', '[S.3]'])"
      ]
     },
     "execution_count": 20,
     "metadata": {},
     "output_type": "execute_result"
    }
   ],
   "source": [
    "import numpy as np\n",
    "import statsmodels.api as sm\n",
    "\n",
    "import pandas as pd\n",
    "#https://stats.oarc.ucla.edu/r/library/r-library-contrast-coding-systems-for-categorical-variables/#DEVIATION\n",
    "url = \"https://stats.idre.ucla.edu/stat/data/hsb2.csv\"\n",
    "hsb2 = pd.read_table(url, delimiter=\",\")\n",
    "\n",
    "hsb2.head(10)\n",
    "hsb2.groupby(\"race\")[\"write\"].mean()\n",
    "\n",
    "\n",
    "from patsy.contrasts import Treatment\n",
    "\n",
    "levels = [1, 2, 3, 4] \n",
    " \n",
    "# ### Sum (Deviation) Coding\n",
    "\n",
    "# Sum coding compares the mean of the dependent variable for a given level\n",
    "# to the overall mean of the dependent variable over all the levels. That\n",
    "# is, it uses contrasts between each of the first k-1 levels and level k In\n",
    "# this example, level 1 is compared to all the others, level 2 to all the\n",
    "# others, and level 3 to all the others.\n",
    "\n",
    "from patsy.contrasts import Sum\n",
    "\n",
    "from statsmodels.formula.api import ols\n",
    "contrast = Sum().code_with_intercept(levels) \n",
    "contrast  "
   ]
  },
  {
   "cell_type": "code",
   "execution_count": 11,
   "metadata": {},
   "outputs": [
    {
     "name": "stdout",
     "output_type": "stream",
     "text": [
      "                            OLS Regression Results                            \n",
      "==============================================================================\n",
      "Dep. Variable:                  write   R-squared:                       0.107\n",
      "Model:                            OLS   Adj. R-squared:                  0.093\n",
      "Method:                 Least Squares   F-statistic:                     7.833\n",
      "Date:                Wed, 13 Apr 2022   Prob (F-statistic):           5.78e-05\n",
      "Time:                        16:01:03   Log-Likelihood:                -721.77\n",
      "No. Observations:                 200   AIC:                             1452.\n",
      "Df Residuals:                     196   BIC:                             1465.\n",
      "Df Model:                           3                                         \n",
      "Covariance Type:            nonrobust                                         \n",
      "=====================================================================================\n",
      "                        coef    std err          t      P>|t|      [0.025      0.975]\n",
      "-------------------------------------------------------------------------------------\n",
      "Intercept            51.6784      0.982     52.619      0.000      49.741      53.615\n",
      "C(race, Sum)[S.1]    -5.2200      1.631     -3.200      0.002      -8.437      -2.003\n",
      "C(race, Sum)[S.2]     6.3216      2.160      2.926      0.004       2.061      10.582\n",
      "C(race, Sum)[S.3]    -3.4784      1.732     -2.008      0.046      -6.895      -0.062\n",
      "==============================================================================\n",
      "Omnibus:                       10.487   Durbin-Watson:                   1.779\n",
      "Prob(Omnibus):                  0.005   Jarque-Bera (JB):               11.031\n",
      "Skew:                          -0.551   Prob(JB):                      0.00402\n",
      "Kurtosis:                       2.670   Cond. No.                         6.72\n",
      "==============================================================================\n",
      "\n",
      "Warnings:\n",
      "[1] Standard Errors assume that the covariance matrix of the errors is correctly specified.\n"
     ]
    },
    {
     "data": {
      "text/plain": [
       "51.67837643678162"
      ]
     },
     "execution_count": 11,
     "metadata": {},
     "output_type": "execute_result"
    }
   ],
   "source": [
    "\n",
    "mod = ols(\"write ~ C(race, Sum)\", data=hsb2)\n",
    "res = mod.fit()\n",
    "print(res.summary())\n",
    "\n",
    "# This corresponds to a parameterization that forces all the coefficients\n",
    "# to sum to zero. Notice that the intercept here is the grand mean where the\n",
    "# grand mean is the mean of means of the dependent variable by each level.\n",
    "\n",
    "hsb2.groupby(\"race\")[\"write\"].mean().mean()"
   ]
  },
  {
   "cell_type": "code",
   "execution_count": 9,
   "metadata": {},
   "outputs": [
    {
     "data": {
      "text/plain": [
       "ContrastMatrix(array([[ 1.,  1.,  0.,  0.],\n",
       "                      [ 1.,  0.,  1.,  0.],\n",
       "                      [ 1.,  0.,  0.,  1.],\n",
       "                      [ 1., -1., -1., -1.]]),\n",
       "               ['[mean]', '[S.1]', '[S.2]', '[S.3]'])"
      ]
     },
     "execution_count": 9,
     "metadata": {},
     "output_type": "execute_result"
    }
   ],
   "source": [
    "Sum().code_with_intercept(levels)"
   ]
  }
 ],
 "metadata": {
  "kernelspec": {
   "display_name": "Python 3",
   "language": "python",
   "name": "python3"
  },
  "language_info": {
   "codemirror_mode": {
    "name": "ipython",
    "version": 3
   },
   "file_extension": ".py",
   "mimetype": "text/x-python",
   "name": "python",
   "nbconvert_exporter": "python",
   "pygments_lexer": "ipython3",
   "version": "3.7.4"
  }
 },
 "nbformat": 4,
 "nbformat_minor": 4
}
